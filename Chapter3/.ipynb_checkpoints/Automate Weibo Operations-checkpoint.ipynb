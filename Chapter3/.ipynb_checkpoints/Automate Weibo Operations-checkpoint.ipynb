{
 "cells": [
  {
   "cell_type": "markdown",
   "metadata": {},
   "source": [
    "# Automate Weibo Operations \n",
    "## Functions\n",
    "1. Log in \n",
    "2. Following account\n",
    "3. Unfollowing account\n",
    "4. Comment\n",
    "5. Post"
   ]
  },
  {
   "cell_type": "code",
   "execution_count": 1,
   "metadata": {},
   "outputs": [],
   "source": [
    "from selenium import webdriver\n",
    "from selenium.webdriver.common.keys import Keys\n",
    "import time \n",
    "from selenium.webdriver import ActionChains"
   ]
  },
  {
   "cell_type": "code",
   "execution_count": 2,
   "metadata": {},
   "outputs": [],
   "source": [
    "home = 'https://www.weibo.com/u/2540648325'"
   ]
  },
  {
   "cell_type": "code",
   "execution_count": 3,
   "metadata": {},
   "outputs": [],
   "source": [
    "browser = webdriver.Chrome()\n",
    "browser.implicitly_wait(5)\n",
    "time.sleep(5)"
   ]
  },
  {
   "cell_type": "code",
   "execution_count": 4,
   "metadata": {},
   "outputs": [],
   "source": [
    "def log_in(username, password,browser):\n",
    "    browser.get('https://www.weibo.com')\n",
    "    time.sleep(20)\n",
    "    browser.find_element_by_id('loginname').send_keys(username)\n",
    "    browser.find_element_by_xpath('//*[@id=\"pl_login_form\"]/div/div[3]/div[2]/div/input').send_keys(password)\n",
    "    time.sleep(5)\n",
    "    browser.find_element_by_xpath('//*[@id=\"pl_login_form\"]/div/div[3]/div[6]/a').click()"
   ]
  },
  {
   "cell_type": "code",
   "execution_count": 5,
   "metadata": {
    "scrolled": true
   },
   "outputs": [],
   "source": [
    "log_in('383060164@qq.com','Gty.19930428',browser)"
   ]
  },
  {
   "cell_type": "code",
   "execution_count": 23,
   "metadata": {},
   "outputs": [],
   "source": [
    "def following (accountName,custName,groupNum=1):\n",
    "    '''groupNum: GroupNumber of your Lists'''\n",
    "    browser.find_element_by_xpath('//*[@id=\"plc_top\"]/div/div/div[2]/input').click()\n",
    "    time.sleep(2)\n",
    "    browser.find_element_by_xpath('//*[@id=\"plc_top\"]/div/div/div[2]/input').send_keys(accountName)\n",
    "    browser.find_element_by_xpath('//*[@id=\"plc_top\"]/div/div/div[2]/input').send_keys(Keys.RETURN)\n",
    "    time.sleep(2)\n",
    "    browser.find_element_by_xpath('//*[@id=\"pl_feedlist_index\"]/div[1]/div[1]/div/div[2]/div/a[3]').click()\n",
    "    browser.find_element_by_xpath('/html/body/div[7]/div[2]/div/div[1]/input').send_keys(custName) # Add a customised name\n",
    "    time.sleep(2)\n",
    "    #Select group you want to add\n",
    "    browser.find_element_by_xpath('/html/body/div[7]/div[2]/div/div[2]/div[2]/ul/li[{}]/label'.format(groupNum)).click() \n",
    "    browser.find_element_by_xpath('/html/body/div[7]/div[2]/div/div[3]/a[1]').click() #click the confirm button\n",
    "    time.sleep(2)"
   ]
  },
  {
   "cell_type": "code",
   "execution_count": 22,
   "metadata": {},
   "outputs": [],
   "source": [
    "following('周杰伦中文网JayCn','JayChou',2)"
   ]
  },
  {
   "cell_type": "code",
   "execution_count": 85,
   "metadata": {
    "scrolled": true
   },
   "outputs": [],
   "source": [
    "browser.get(home) #Go to Personal HomePage"
   ]
  },
  {
   "cell_type": "code",
   "execution_count": 20,
   "metadata": {},
   "outputs": [],
   "source": [
    "def unfollowing(uid):\n",
    "    browser.get('https://m.weibo.cn/' + str(uid)) #use mobile website\n",
    "    time.sleep(5)\n",
    "    delete_button = browser.find_element_by_xpath('//*[@id=\"Pl_Official_Headerv6__1\"]/div[1]/div/div[2]/div[4]/div/div[1]/a[1]').click()\n",
    "    time.sleep(5)\n",
    "    delete_button = browser.find_element_by_xpath('//*[@id=\"app\"]/div[1]/div[4]/div[2]/div/div[1]/div/div/ul/li[2]/div/h4').click()\n",
    "    time.sleep(5)\n",
    "    delete_button = browser.find_element_by_xpath('//*[@id=\"app\"]/div[2]/div[1]/div[2]/footer/div[2]/a').click()\n",
    "    time.sleep(5)"
   ]
  },
  {
   "cell_type": "code",
   "execution_count": 21,
   "metadata": {},
   "outputs": [],
   "source": [
    "def comment(url,content):\n",
    "    browser.get(url)\n",
    "    content_area = browser.find_element_by_xpath('//*[@id=\"app\"]/div[1]/div/div[5]/div/div[1]').click()\n",
    "    content_textarea = browser.find_element_by_xpath('//*[@id=\"app\"]/div[1]/div/div[5]/div/div/div/div[1]/textarea[1]').clear()\n",
    "    time.sleep(5)\n",
    "    content_textarea = browser.find_element_by_xpath('//*[@id=\"app\"]/div[1]/div/div[5]/div/div/div/div[1]/textarea[1]').send_keys(content)\n",
    "    time.sleep(5)\n",
    "    browser.find_element_by_xpath('//*[@id=\"app\"]/div[1]/div/div[5]/div/div/div/div[2]/button').click()\n",
    "    time.sleep(5)\n",
    "    "
   ]
  },
  {
   "cell_type": "code",
   "execution_count": 22,
   "metadata": {},
   "outputs": [],
   "source": [
    "def post(content):\n",
    "    '''home is your personal homepage'''\n",
    "    browser.get(home)\n",
    "    time.sleep(5)\n",
    "    post_button = browser.find_element_by_xpath('//*[@id=\"app\"]/div[1]/div[1]/div[1]/div[2]/div[2]').click()\n",
    "    time.sleep(5)\n",
    "    content_textarea = browser.find_element_by_xpath('//*[@id=\"app\"]/div[1]/div/main/div[1]/div/span/textarea[1]').send_keys(content)\n",
    "    time.sleep(5)\n",
    "    post_button = browser.find_element_by_xpath('//*[@id=\"app\"]/div[1]/div/header/div[3]/a').click()"
   ]
  }
 ],
 "metadata": {
  "kernelspec": {
   "display_name": "Python 3",
   "language": "python",
   "name": "python3"
  },
  "language_info": {
   "codemirror_mode": {
    "name": "ipython",
    "version": 3
   },
   "file_extension": ".py",
   "mimetype": "text/x-python",
   "name": "python",
   "nbconvert_exporter": "python",
   "pygments_lexer": "ipython3",
   "version": "3.7.2"
  },
  "toc": {
   "base_numbering": 1,
   "nav_menu": {},
   "number_sections": true,
   "sideBar": true,
   "skip_h1_title": false,
   "title_cell": "Table of Contents",
   "title_sidebar": "Contents",
   "toc_cell": false,
   "toc_position": {},
   "toc_section_display": true,
   "toc_window_display": false
  }
 },
 "nbformat": 4,
 "nbformat_minor": 2
}
