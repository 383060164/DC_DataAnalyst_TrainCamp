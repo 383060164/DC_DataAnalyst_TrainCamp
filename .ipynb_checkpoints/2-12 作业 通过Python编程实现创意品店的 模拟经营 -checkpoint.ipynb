{
 "cells": [
  {
   "cell_type": "markdown",
   "metadata": {},
   "source": [
    "**作业：通过Python编程实现创意品店的模拟经营**\n",
    "\n",
    "作业背景:你是一家创意品店的老板，因为运营限制，日常售卖7种商品，每种商品都有一个单价和数量。\n",
    "\n",
    "初始条件：\n",
    "\n",
    "1.游戏初始，账上流动资金为 5000元  \n",
    "2.当前已有库存：                                          \n",
    "名称 数量(件) \n",
    "永生花 20 \n",
    "磁悬浮球 10 \n",
    "炫彩水龙头 30 \n",
    "指尖陀螺 20 \n",
    "3D发光T恤 15 \n",
    "星空灯 20 \n",
    "金丝镂空面具 20   \n",
    "3.商品价格：\n",
    "名称\n",
    "价格(元)\n",
    "永生花\n",
    "129\n",
    "磁悬浮球\n",
    "79\n",
    "炫彩水龙头\n",
    "39\n",
    "指尖陀螺\n",
    "69\n",
    "3D发光T恤\n",
    "89\n",
    "星空灯\n",
    "49\n",
    "金丝镂空面具\n",
    "99\n",
    "玩法如下：\n",
    "有三种操作可以选择：\n",
    "退货：每类物品退货一次需要10元运费，退货价为[ (单价-2）* 数量 – 10 ) ]元\n",
    "进货：每类物品进货一次需要10元运费，进货价为[ (单价-0.5) * 数量+10]元\n",
    "接待客人：客人到店会报出一个包括随机5种商品的采购清单，数量范围在1～20之间随机生成，商品名称有如下选择:永生花/磁悬浮球/星空灯/炫彩水龙头/指尖陀螺/3D发光T恤/金丝镂空面具"
   ]
  },
  {
   "cell_type": "code",
   "execution_count": 1,
   "metadata": {},
   "outputs": [],
   "source": [
    "import random\n",
    "goods={'永生花':20,'磁悬浮球':10,'炫彩水龙头':30,'指尖陀螺':20,'3D发光T恤':15,'星空灯':20,'金丝镂空面具':20}\n",
    "price_list={'永生花':129,'磁悬浮球':79,'炫彩水龙头':39,'指尖陀螺':69,'3D发光T恤':89,'星空灯':49,'金丝镂空面具':99}\n",
    "products=['永生花','磁悬浮球','炫彩水龙头','指尖陀螺','3D发光T恤','星空灯','金丝镂空面具']\n",
    "money = 5000"
   ]
  },
  {
   "cell_type": "code",
   "execution_count": 2,
   "metadata": {},
   "outputs": [],
   "source": [
    "def list_generate():\n",
    "    '''商品采购清单'''\n",
    "    product_list=['永生花','磁悬浮球','炫彩水龙头','指尖陀螺','3D发光T恤','星空灯','金丝镂空面具']\n",
    "    result={}\n",
    "    for i in range(5):\n",
    "        product = random.choice(product_list)\n",
    "        product_list.remove(product)\n",
    "        num=random.randint(1,20)\n",
    "        result.update({product:num})\n",
    "    print(\"采购清单：{}\\n\".format(result))\n",
    "    return result\n",
    "\n",
    "def transaction():\n",
    "    '''接待客人函数'''\n",
    "    global money, goods\n",
    "    benefit=0\n",
    "    buy_list=list_generate()\n",
    "    for i in buy_list:\n",
    "        if i not in goods.keys(): #如果没有库存\n",
    "            print(\"%s 库存没有，请去其他店铺采购！\" %i)\n",
    "            continue\n",
    "        if goods[i] - buy_list[i]>=0:\n",
    "            temp = buy_list[i]*price_list[i]\n",
    "            benefit+=temp\n",
    "#             res=goods[i]-buy_list[i]\n",
    "#             print(res)\n",
    "            goods.update({i:goods[i]-buy_list[i]})\n",
    "        else:\n",
    "            lack = buy_list[i]-goods[i]\n",
    "            print(\"{} 库存缺少 {} \".format(i,lack))  \n",
    "    money+=benefit\n",
    "    print('总共价钱： {}\\n流动资金：{}\\n剩余库存：{}\\n'.format(benefit,money,goods))"
   ]
  },
  {
   "cell_type": "code",
   "execution_count": 3,
   "metadata": {},
   "outputs": [],
   "source": [
    "def get_goods():\n",
    "    '''进货方程'''\n",
    "    global money\n",
    "    cost = 0\n",
    "    while True:\n",
    "        print('现有库存：\\n{}'.format(goods))\n",
    "        print('请选择购买选项： \\n 1.永生花 ￥129\\n 2.磁悬浮球 ￥79 \\n 3.炫彩水龙头 ￥39 \\n 4.指尖陀螺 ￥69 \\n 5.3D发光T恤 ￥89 \\n 6.星空灯 ￥49 \\n 7.金丝镂空面具 ￥99\\n 0.退出')\n",
    "        opt = int(input())\n",
    "        if opt not in range(8):\n",
    "            print(\"请选择有效选项：0-7\")\n",
    "            continue\n",
    "        if opt==0:\n",
    "            print('购买结束')\n",
    "            money-=cost\n",
    "            print('\\n总共花费：{}, 流动资金还剩余：{}\\n'.format(cost,money))\n",
    "            print('新库存为：{}'.format(goods))\n",
    "            break\n",
    "        else:\n",
    "            print('购买'+str(products[opt-1])+'数量：')\n",
    "            product=products[opt-1]\n",
    "            temp = int(input())\n",
    "            price = price_list[products[opt-1]]\n",
    "            cost += (price-0.5)*temp+10\n",
    "            goods.update({product:goods[product]+temp})\n",
    "            print('小计：'+str(cost))\n"
   ]
  },
  {
   "cell_type": "code",
   "execution_count": 4,
   "metadata": {},
   "outputs": [],
   "source": [
    "def return_goods():\n",
    "    '''退货方程'''\n",
    "    global money\n",
    "    refund = 0\n",
    "    while True:\n",
    "        print('现有库存：\\n{}'.format(goods))\n",
    "        print('请选择退货产品： \\n 1.永生花 ￥129\\n 2.磁悬浮球 ￥79 \\n 3.炫彩水龙头 ￥39 \\n 4.指尖陀螺 ￥69 \\n 5.3D发光T恤 ￥89 \\n 6.星空灯 ￥49 \\n 7.金丝镂空面具 ￥99\\n 0.退出')\n",
    "        opt = int(input())\n",
    "        if opt not in range(8):\n",
    "            print(\"请选择有效选项：0-7\")\n",
    "            continue\n",
    "        if opt==0:\n",
    "            print('退货结束')\n",
    "            money+=refund\n",
    "            print('\\n总共退货所得：{}, 流动资金还剩余：{}\\n'.format(refund,money))\n",
    "            print('新库存为：{}'.format(goods))\n",
    "            break\n",
    "        else:\n",
    "            print('退货'+str(products[opt-1])+'数量：')\n",
    "            product=products[opt-1]\n",
    "            temp = int(input())\n",
    "            price = price_list[products[opt-1]]\n",
    "            refund+= (price-2)*temp-10\n",
    "            goods.update({product:goods[product]-temp})\n",
    "            print('小计：'+str(refund))\n"
   ]
  },
  {
   "cell_type": "code",
   "execution_count": 5,
   "metadata": {},
   "outputs": [],
   "source": [
    "def main():\n",
    "    global money\n",
    "    while True or money >0:\n",
    "        print('***************Welcome to Grocery store***************')\n",
    "        print('1.进货\\n2.退货\\n3.接待客人\\n0.退出游戏')\n",
    "        flag = int(input('请选择操作类型:'))\n",
    "        if flag == 0:\n",
    "            print('游戏结束，当前金额:{}'.format(money))\n",
    "            break\n",
    "        if flag == 1:\n",
    "            get_goods()\n",
    "        if flag == 2:\n",
    "            return_goods()\n",
    "        if flag ==3:\n",
    "            transaction()"
   ]
  },
  {
   "cell_type": "code",
   "execution_count": 7,
   "metadata": {
    "scrolled": false
   },
   "outputs": [
    {
     "name": "stdout",
     "output_type": "stream",
     "text": [
      "***************Welcome to Grocery store***************\n",
      "1.进货\n",
      "2.退货\n",
      "3.接待客人\n",
      "0.退出游戏\n",
      "请选择操作类型:0\n",
      "游戏结束，当前金额:11016.5\n"
     ]
    }
   ],
   "source": [
    "main()"
   ]
  }
 ],
 "metadata": {
  "kernelspec": {
   "display_name": "Python 3",
   "language": "python",
   "name": "python3"
  },
  "language_info": {
   "codemirror_mode": {
    "name": "ipython",
    "version": 3
   },
   "file_extension": ".py",
   "mimetype": "text/x-python",
   "name": "python",
   "nbconvert_exporter": "python",
   "pygments_lexer": "ipython3",
   "version": "3.7.2"
  },
  "toc": {
   "base_numbering": 1,
   "nav_menu": {},
   "number_sections": true,
   "sideBar": true,
   "skip_h1_title": false,
   "title_cell": "Table of Contents",
   "title_sidebar": "Contents",
   "toc_cell": false,
   "toc_position": {
    "height": "calc(100% - 180px)",
    "left": "10px",
    "top": "150px",
    "width": "384px"
   },
   "toc_section_display": true,
   "toc_window_display": true
  }
 },
 "nbformat": 4,
 "nbformat_minor": 2
}
